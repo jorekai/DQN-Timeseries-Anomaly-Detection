{
 "cells": [
  {
   "cell_type": "code",
   "execution_count": 1,
   "outputs": [
    {
     "name": "stderr",
     "output_type": "stream",
     "text": [
      "C:\\Users\\nils\\Anaconda3\\envs\\master2020\\lib\\site-packages\\tensorflow\\python\\framework\\dtypes.py:523: FutureWarning: Passing (type, 1) or '1type' as a synonym of type is deprecated; in a future version of numpy, it will be understood as (type, (1,)) / '(1,)type'.\n",
      "  _np_qint8 = np.dtype([(\"qint8\", np.int8, 1)])\n",
      "C:\\Users\\nils\\Anaconda3\\envs\\master2020\\lib\\site-packages\\tensorflow\\python\\framework\\dtypes.py:524: FutureWarning: Passing (type, 1) or '1type' as a synonym of type is deprecated; in a future version of numpy, it will be understood as (type, (1,)) / '(1,)type'.\n",
      "  _np_quint8 = np.dtype([(\"quint8\", np.uint8, 1)])\n",
      "C:\\Users\\nils\\Anaconda3\\envs\\master2020\\lib\\site-packages\\tensorflow\\python\\framework\\dtypes.py:525: FutureWarning: Passing (type, 1) or '1type' as a synonym of type is deprecated; in a future version of numpy, it will be understood as (type, (1,)) / '(1,)type'.\n",
      "  _np_qint16 = np.dtype([(\"qint16\", np.int16, 1)])\n",
      "C:\\Users\\nils\\Anaconda3\\envs\\master2020\\lib\\site-packages\\tensorflow\\python\\framework\\dtypes.py:526: FutureWarning: Passing (type, 1) or '1type' as a synonym of type is deprecated; in a future version of numpy, it will be understood as (type, (1,)) / '(1,)type'.\n",
      "  _np_quint16 = np.dtype([(\"quint16\", np.uint16, 1)])\n",
      "C:\\Users\\nils\\Anaconda3\\envs\\master2020\\lib\\site-packages\\tensorflow\\python\\framework\\dtypes.py:527: FutureWarning: Passing (type, 1) or '1type' as a synonym of type is deprecated; in a future version of numpy, it will be understood as (type, (1,)) / '(1,)type'.\n",
      "  _np_qint32 = np.dtype([(\"qint32\", np.int32, 1)])\n",
      "C:\\Users\\nils\\Anaconda3\\envs\\master2020\\lib\\site-packages\\tensorflow\\python\\framework\\dtypes.py:532: FutureWarning: Passing (type, 1) or '1type' as a synonym of type is deprecated; in a future version of numpy, it will be understood as (type, (1,)) / '(1,)type'.\n",
      "  np_resource = np.dtype([(\"resource\", np.ubyte, 1)])\n"
     ]
    },
    {
     "name": "stdout",
     "output_type": "stream",
     "text": [
      "1.10.0\n"
     ]
    }
   ],
   "source": [
    "import os\n",
    "import random\n",
    "import time\n",
    "from collections import deque\n",
    "import tensorflow as tf\n",
    "from resources.Plots import plot_actions\n",
    "from resources.Utils import load_object, store_object\n",
    "import resources.Utils as utils\n",
    "print(tf.__version__)\n",
    "import numpy as np"
   ],
   "metadata": {
    "collapsed": false,
    "pycharm": {
     "name": "#%%\n"
    }
   }
  },
  {
   "cell_type": "code",
   "execution_count": 2,
   "outputs": [],
   "source": [
    "class MemoryBuffer:\n",
    "    def __init__(self, max, id, init_size=5000):\n",
    "        self.memory = deque([], maxlen=max)\n",
    "        self.id = \"memory_{}.obj\".format(id)\n",
    "        self.init_size = init_size\n",
    "\n",
    "    def store(self, state, action, reward, nstate, done):\n",
    "        # Store the experience in memory\n",
    "        if len(self.memory) < self.memory.maxlen:\n",
    "            self.memory.append((state, action, reward, nstate, done))\n",
    "        else:\n",
    "            self.memory.popleft()\n",
    "            self.memory.append((state, action, reward, nstate, done))\n",
    "\n",
    "    def init_memory(self, env, load=False):\n",
    "        # time measurement for memory initialization\n",
    "        init_time = time.time()\n",
    "        # resetting environment once\n",
    "        state = env.reset()\n",
    "        # try to load memory from local file\n",
    "        if os.path.isfile(self.id) and load:\n",
    "            self.memory = load_object(self.id)\n",
    "        # try to init memory by taking random steps in our environment until the deque is full\n",
    "        else:\n",
    "            while True:\n",
    "                # break if memory is full\n",
    "                if len(self.memory) >= self.init_size:\n",
    "                    break\n",
    "                # check if we need to reset env and still fill our memory\n",
    "                if env.is_done():\n",
    "                    env.reset()\n",
    "                # get random action\n",
    "                action = random.randrange(env.action_space_n)\n",
    "                # take step in env and append\n",
    "                nstate, reward, done, [] = env.step(action)\n",
    "                # store our memory in class\n",
    "                self.store(state, action, reward, nstate, done)\n",
    "                state = nstate[action]\n",
    "            # store our memory locally to reduce loading time on next run\n",
    "            store_object(self.memory, self.id)\n",
    "            print(\"Memory is full, {} Samples stored. It took {} seconds\".format(len(self.memory),\n",
    "                                                                                 time.time() - init_time))\n",
    "\n",
    "    def get_exp(self, batch_size):\n",
    "        # Popping from the Memory Queue which should be filled randomly beforehand\n",
    "        if len(self.memory) > batch_size:\n",
    "            samples = [self.memory.popleft() for _i in range(batch_size)]\n",
    "            for sample in samples:\n",
    "                self.memory.append(sample)\n",
    "        else:\n",
    "            raise Exception(\n",
    "                \"There are only {} samples left, batch size of {} is too big.\".format(len(self.memory), batch_size))\n",
    "        return samples\n",
    "\n",
    "    def __len__(self):\n",
    "        return len(self.memory)"
   ],
   "metadata": {
    "collapsed": false,
    "pycharm": {
     "name": "#%%\n"
    }
   }
  },
  {
   "cell_type": "code",
   "execution_count": 3,
   "outputs": [],
   "source": [
    "class Simulator:\n",
    "    \"\"\"\n",
    "    This class is used to train and to test the agent in its environment\n",
    "    \"\"\"\n",
    "\n",
    "    def __init__(self, max_episodes, agent, environment, update_steps):\n",
    "        \"\"\"\n",
    "        Initialize the Simulator with parameters\n",
    "\n",
    "        :param max_episodes: How many episodes we want to learn, the last episode is used for evaluation\n",
    "        :param agent: the agent which should be trained\n",
    "        :param environment: the environment to evaluate and train in\n",
    "        :param update_steps: the update steps for the Target Q-Network of the Agent\n",
    "        \"\"\"\n",
    "        self.max_episodes = max_episodes\n",
    "        self.episode = 0\n",
    "        self.agent = agent\n",
    "        self.env = environment\n",
    "        self.update_steps = update_steps\n",
    "\n",
    "        # information variables\n",
    "        self.training_scores = []\n",
    "        self.test_rewards = []\n",
    "        self.test_actions = []\n",
    "\n",
    "    def run(self):\n",
    "        \"\"\"\n",
    "        This method is for scheduling training before testing\n",
    "        :return: True if finished\n",
    "        \"\"\"\n",
    "        while True:\n",
    "            start = utils.start_timer()\n",
    "            start_testing = self.__can_test()\n",
    "            if not start_testing:\n",
    "                info = self.__training_iteration()\n",
    "                print(\"Training episode {} took {} seconds {}\".format(self.episode, utils.get_duration(start), info))\n",
    "                self.__next__()\n",
    "            if start_testing:\n",
    "                self.__testing_iteration()\n",
    "                print(\"Testing episode {} took {} seconds\".format(self.episode, utils.get_duration(start)))\n",
    "                break\n",
    "            print(self.agent.epsilon)\n",
    "            self.agent.anneal_epsilon()\n",
    "        plot_actions(self.test_actions[0], getattr(self.env, \"timeseries_labeled\"))\n",
    "        return True\n",
    "\n",
    "    def __training_iteration(self):\n",
    "        \"\"\"\n",
    "        One training iteration is through the complete timeseries, maybe this needs to be changed for\n",
    "        bigger timeseries datasets.\n",
    "\n",
    "        :return: Information of the training episode, if update episode or normal episode\n",
    "        \"\"\"\n",
    "        rewards = 0\n",
    "        state = self.env.reset()\n",
    "        for idx in range(len(\n",
    "                self.env)):\n",
    "            action = self.agent.action(state)\n",
    "            nstate, reward, done, [] = env.step(action)\n",
    "            rewards += reward[action]\n",
    "            self.agent.memory.store(state, action, reward, nstate, done)\n",
    "            state = nstate[action]\n",
    "            if done:\n",
    "                self.training_scores.append(rewards)\n",
    "                print(\"Training Score now: \", np.sum(rewards))\n",
    "                self.agent.update_target_model()\n",
    "                break\n",
    "\n",
    "        if len(self.agent.memory) > self.agent.batch_size:\n",
    "            self.agent.experience_replay()\n",
    "\n",
    "        # Target Model Update\n",
    "        # if self.episode % self.update_steps == 0:\n",
    "        #     self.agent.update_target_model()\n",
    "        #     return \"Update Target Model\"\n",
    "        return \"\"\n",
    "\n",
    "    def __testing_iteration(self):\n",
    "        \"\"\"\n",
    "        The testing iteration with greedy actions only.\n",
    "        \"\"\"\n",
    "        rewards = 0\n",
    "        actions = []\n",
    "        state = self.env.reset()\n",
    "        self.agent.epsilon = 0\n",
    "        for idx in range(len(\n",
    "                self.env)):\n",
    "            action = self.agent.action(state)\n",
    "            actions.append(action)\n",
    "            nstate, reward, done, [] = env.step(action)\n",
    "            rewards += reward[action]\n",
    "            state = nstate[action]\n",
    "            if done:\n",
    "                actions.append(action)\n",
    "                self.test_rewards.append(rewards)\n",
    "                self.test_actions.append(actions)\n",
    "                break\n",
    "\n",
    "    def __can_test(self):\n",
    "        \"\"\"\n",
    "        :return: True if last episode, False before\n",
    "        \"\"\"\n",
    "        if self.episode >= self.max_episodes:\n",
    "            return True\n",
    "        return False\n",
    "\n",
    "    def __next__(self):\n",
    "        # increment episode counter\n",
    "        self.episode += 1"
   ],
   "metadata": {
    "collapsed": false,
    "pycharm": {
     "name": "#%%\n"
    }
   }
  },
  {
   "cell_type": "code",
   "execution_count": 4,
   "outputs": [
    {
     "name": "stdout",
     "output_type": "stream",
     "text": [
      "TimeSeries from: ./Test/SmallData.csv\n",
      " Header(labeled):\n",
      "    value  anomaly\n",
      "0  12183        0\n",
      "1  12715        0\n",
      "2  12736        0 \n",
      "Header(unlabeled):\n",
      "    value\n",
      "0  12183\n",
      "1  12715\n",
      "2  12736 \n",
      "Rows:\n",
      " 1439\n",
      "MeanValue:\n",
      " 11020.08\n",
      "MaxValue:\n",
      " 170029\n",
      "MinValue:\n",
      " 3594\n",
      "_________________________________________________________________\n",
      "Layer (type)                 Output Shape              Param #   \n",
      "=================================================================\n",
      "lstm (LSTM)                  (None, 5, 5)              160       \n",
      "_________________________________________________________________\n",
      "lstm_1 (LSTM)                (None, 5, 256)            268288    \n",
      "_________________________________________________________________\n",
      "flatten (Flatten)            (None, 1280)              0         \n",
      "_________________________________________________________________\n",
      "dense (Dense)                (None, 2)                 2562      \n",
      "=================================================================\n",
      "Total params: 271,010\n",
      "Trainable params: 271,010\n",
      "Non-trainable params: 0\n",
      "_________________________________________________________________\n"
     ]
    }
   ],
   "source": [
    "from agents.BinaryStateAgent import BinaryStateAgent\n",
    "from agents.NeuralNetwork import NeuralNetwork\n",
    "from environment.BinaryStateEnvironment import BinaryStateEnvironment\n",
    "from environment.Config import ConfigTimeSeries\n",
    "from environment.BaseEnvironment import TimeSeriesEnvironment\n",
    "\n",
    "#tf.compat.v1.disable_eager_execution()\n",
    "config = ConfigTimeSeries()\n",
    "env = BinaryStateEnvironment(\n",
    "    TimeSeriesEnvironment(verbose=True, filename=\"./Test/SmallData.csv\", config=config))\n",
    "\n",
    "dqn = NeuralNetwork(input_dim=env.steps,\n",
    "                input_neurons=env.steps, hidden_neurons=128, type=\"lstm_binary\").keras_model\n",
    "agent = BinaryStateAgent(dqn=dqn, memory=MemoryBuffer(max=50000, id=\"binary_agent\"), alpha=0.0001, gamma=0.9, \\\n",
    "                         epsilon=1.0, epsilon_end=0.0, epsilon_decay=0.9, fit_epoch=1, action_space=2, \\\n",
    "                         batch_size=512)"
   ],
   "metadata": {
    "collapsed": false,
    "pycharm": {
     "name": "#%%\n"
    }
   }
  },
  {
   "cell_type": "code",
   "execution_count": 5,
   "outputs": [
    {
     "name": "stderr",
     "output_type": "stream",
     "text": [
      "C:\\Users\\nils\\Anaconda3\\envs\\master2020\\lib\\site-packages\\sklearn\\preprocessing\\data.py:323: DataConversionWarning: Data with input dtype int64 were all converted to float64 by MinMaxScaler.\n",
      "  return self.partial_fit(X, y)\n"
     ]
    },
    {
     "name": "stdout",
     "output_type": "stream",
     "text": [
      "Successfully stored to memory_binary_agent.obj\n",
      "Memory is full, 5000 Samples stored. It took 0.4109013080596924 seconds\n",
      "Training Score now:  -3\n",
      "Training episode 0 took 3.7452681064605713 seconds \n",
      "1.0\n",
      "Training Score now:  145\n",
      "Training episode 1 took 0.6933259963989258 seconds \n",
      "0.9\n",
      "Training Score now:  257\n",
      "Training episode 2 took 0.7566149234771729 seconds \n",
      "0.81\n",
      "Training Score now:  411\n",
      "Training episode 3 took 0.8545854091644287 seconds \n",
      "0.7290000000000001\n",
      "Training Score now:  477\n",
      "Training episode 4 took 0.9751074314117432 seconds \n",
      "0.6561000000000001\n",
      "Training Score now:  515\n",
      "Training episode 5 took 1.0647869110107422 seconds \n",
      "0.5904900000000002\n",
      "Training Score now:  645\n",
      "Training episode 6 took 1.1601982116699219 seconds \n",
      "0.5314410000000002\n",
      "Training Score now:  673\n",
      "Training episode 7 took 1.2110695838928223 seconds \n",
      "0.47829690000000014\n",
      "Training Score now:  739\n",
      "Training episode 8 took 1.2622416019439697 seconds \n",
      "0.43046721000000016\n",
      "Training Score now:  817\n",
      "Training episode 9 took 1.3568968772888184 seconds \n",
      "0.38742048900000015\n",
      "Testing episode 10 took 1.510357141494751 seconds\n"
     ]
    },
    {
     "ename": "ValueError",
     "evalue": "x and y must have same first dimension, but have shapes (1439,) and (1434,)",
     "output_type": "error",
     "traceback": [
      "\u001B[1;31m---------------------------------------------------------------------------\u001B[0m",
      "\u001B[1;31mValueError\u001B[0m                                Traceback (most recent call last)",
      "\u001B[1;32m<ipython-input-5-74429e152a6a>\u001B[0m in \u001B[0;36m<module>\u001B[1;34m\u001B[0m\n\u001B[0;32m      2\u001B[0m \u001B[0msimulation\u001B[0m \u001B[1;33m=\u001B[0m \u001B[0mSimulator\u001B[0m\u001B[1;33m(\u001B[0m\u001B[1;36m10\u001B[0m\u001B[1;33m,\u001B[0m \u001B[0magent\u001B[0m\u001B[1;33m,\u001B[0m \u001B[0menv\u001B[0m\u001B[1;33m,\u001B[0m \u001B[1;36m1\u001B[0m\u001B[1;33m)\u001B[0m\u001B[1;33m\u001B[0m\u001B[0m\n\u001B[0;32m      3\u001B[0m \u001B[0magent\u001B[0m\u001B[1;33m.\u001B[0m\u001B[0mmemory\u001B[0m\u001B[1;33m.\u001B[0m\u001B[0minit_memory\u001B[0m\u001B[1;33m(\u001B[0m\u001B[0menv\u001B[0m\u001B[1;33m=\u001B[0m\u001B[0menv\u001B[0m\u001B[1;33m)\u001B[0m\u001B[1;33m\u001B[0m\u001B[0m\n\u001B[1;32m----> 4\u001B[1;33m \u001B[0msimulation\u001B[0m\u001B[1;33m.\u001B[0m\u001B[0mrun\u001B[0m\u001B[1;33m(\u001B[0m\u001B[1;33m)\u001B[0m\u001B[1;33m\u001B[0m\u001B[0m\n\u001B[0m",
      "\u001B[1;32m<ipython-input-3-aec409cbaed5>\u001B[0m in \u001B[0;36mrun\u001B[1;34m(self)\u001B[0m\n\u001B[0;32m     43\u001B[0m             \u001B[0mprint\u001B[0m\u001B[1;33m(\u001B[0m\u001B[0mself\u001B[0m\u001B[1;33m.\u001B[0m\u001B[0magent\u001B[0m\u001B[1;33m.\u001B[0m\u001B[0mepsilon\u001B[0m\u001B[1;33m)\u001B[0m\u001B[1;33m\u001B[0m\u001B[0m\n\u001B[0;32m     44\u001B[0m             \u001B[0mself\u001B[0m\u001B[1;33m.\u001B[0m\u001B[0magent\u001B[0m\u001B[1;33m.\u001B[0m\u001B[0manneal_epsilon\u001B[0m\u001B[1;33m(\u001B[0m\u001B[1;33m)\u001B[0m\u001B[1;33m\u001B[0m\u001B[0m\n\u001B[1;32m---> 45\u001B[1;33m         \u001B[0mplot_actions\u001B[0m\u001B[1;33m(\u001B[0m\u001B[0mself\u001B[0m\u001B[1;33m.\u001B[0m\u001B[0mtest_actions\u001B[0m\u001B[1;33m[\u001B[0m\u001B[1;36m0\u001B[0m\u001B[1;33m]\u001B[0m\u001B[1;33m,\u001B[0m \u001B[0mgetattr\u001B[0m\u001B[1;33m(\u001B[0m\u001B[0mself\u001B[0m\u001B[1;33m.\u001B[0m\u001B[0menv\u001B[0m\u001B[1;33m,\u001B[0m \u001B[1;34m\"timeseries_labeled\"\u001B[0m\u001B[1;33m)\u001B[0m\u001B[1;33m)\u001B[0m\u001B[1;33m\u001B[0m\u001B[0m\n\u001B[0m\u001B[0;32m     46\u001B[0m         \u001B[1;32mreturn\u001B[0m \u001B[1;32mTrue\u001B[0m\u001B[1;33m\u001B[0m\u001B[0m\n\u001B[0;32m     47\u001B[0m \u001B[1;33m\u001B[0m\u001B[0m\n",
      "\u001B[1;32mN:\\MasterPredictions\\resources\\Plots.py\u001B[0m in \u001B[0;36mplot_actions\u001B[1;34m(actions, series)\u001B[0m\n\u001B[0;32m     18\u001B[0m \u001B[1;32mdef\u001B[0m \u001B[0mplot_actions\u001B[0m\u001B[1;33m(\u001B[0m\u001B[0mactions\u001B[0m\u001B[1;33m,\u001B[0m \u001B[0mseries\u001B[0m\u001B[1;33m)\u001B[0m\u001B[1;33m:\u001B[0m\u001B[1;33m\u001B[0m\u001B[0m\n\u001B[0;32m     19\u001B[0m     \u001B[0mplt\u001B[0m\u001B[1;33m.\u001B[0m\u001B[0mfigure\u001B[0m\u001B[1;33m(\u001B[0m\u001B[0mfigsize\u001B[0m\u001B[1;33m=\u001B[0m\u001B[1;33m(\u001B[0m\u001B[1;36m15\u001B[0m\u001B[1;33m,\u001B[0m \u001B[1;36m7\u001B[0m\u001B[1;33m)\u001B[0m\u001B[1;33m)\u001B[0m\u001B[1;33m\u001B[0m\u001B[0m\n\u001B[1;32m---> 20\u001B[1;33m     \u001B[0mplt\u001B[0m\u001B[1;33m.\u001B[0m\u001B[0mplot\u001B[0m\u001B[1;33m(\u001B[0m\u001B[0mseries\u001B[0m\u001B[1;33m.\u001B[0m\u001B[0mindex\u001B[0m\u001B[1;33m,\u001B[0m \u001B[0mactions\u001B[0m\u001B[1;33m,\u001B[0m \u001B[0mlabel\u001B[0m\u001B[1;33m=\u001B[0m\u001B[1;34m\"Actions\"\u001B[0m\u001B[1;33m,\u001B[0m \u001B[0mlinestyle\u001B[0m\u001B[1;33m=\u001B[0m\u001B[1;34m\"solid\"\u001B[0m\u001B[1;33m)\u001B[0m\u001B[1;33m\u001B[0m\u001B[0m\n\u001B[0m\u001B[0;32m     21\u001B[0m     \u001B[0mplt\u001B[0m\u001B[1;33m.\u001B[0m\u001B[0mplot\u001B[0m\u001B[1;33m(\u001B[0m\u001B[0mseries\u001B[0m\u001B[1;33m.\u001B[0m\u001B[0mindex\u001B[0m\u001B[1;33m,\u001B[0m \u001B[0mseries\u001B[0m\u001B[1;33m[\u001B[0m\u001B[1;34m\"anomaly\"\u001B[0m\u001B[1;33m]\u001B[0m\u001B[1;33m,\u001B[0m \u001B[0mlabel\u001B[0m\u001B[1;33m=\u001B[0m\u001B[1;34m\"True Label\"\u001B[0m\u001B[1;33m,\u001B[0m \u001B[0mlinestyle\u001B[0m\u001B[1;33m=\u001B[0m\u001B[1;34m\"dotted\"\u001B[0m\u001B[1;33m)\u001B[0m\u001B[1;33m\u001B[0m\u001B[0m\n\u001B[0;32m     22\u001B[0m     \u001B[0mplt\u001B[0m\u001B[1;33m.\u001B[0m\u001B[0mplot\u001B[0m\u001B[1;33m(\u001B[0m\u001B[0mseries\u001B[0m\u001B[1;33m.\u001B[0m\u001B[0mindex\u001B[0m\u001B[1;33m,\u001B[0m \u001B[0mseries\u001B[0m\u001B[1;33m[\u001B[0m\u001B[1;34m\"value\"\u001B[0m\u001B[1;33m]\u001B[0m\u001B[1;33m,\u001B[0m \u001B[0mlabel\u001B[0m\u001B[1;33m=\u001B[0m\u001B[1;34m\"Series\"\u001B[0m\u001B[1;33m,\u001B[0m \u001B[0mlinestyle\u001B[0m\u001B[1;33m=\u001B[0m\u001B[1;34m\"dashed\"\u001B[0m\u001B[1;33m)\u001B[0m\u001B[1;33m\u001B[0m\u001B[0m\n",
      "\u001B[1;32m~\\Anaconda3\\envs\\master2020\\lib\\site-packages\\matplotlib\\pyplot.py\u001B[0m in \u001B[0;36mplot\u001B[1;34m(scalex, scaley, data, *args, **kwargs)\u001B[0m\n\u001B[0;32m   2809\u001B[0m     return gca().plot(\n\u001B[0;32m   2810\u001B[0m         *args, scalex=scalex, scaley=scaley, **({\"data\": data} if data\n\u001B[1;32m-> 2811\u001B[1;33m         is not None else {}), **kwargs)\n\u001B[0m\u001B[0;32m   2812\u001B[0m \u001B[1;33m\u001B[0m\u001B[0m\n\u001B[0;32m   2813\u001B[0m \u001B[1;33m\u001B[0m\u001B[0m\n",
      "\u001B[1;32m~\\Anaconda3\\envs\\master2020\\lib\\site-packages\\matplotlib\\__init__.py\u001B[0m in \u001B[0;36minner\u001B[1;34m(ax, data, *args, **kwargs)\u001B[0m\n\u001B[0;32m   1808\u001B[0m                         \u001B[1;34m\"the Matplotlib list!)\"\u001B[0m \u001B[1;33m%\u001B[0m \u001B[1;33m(\u001B[0m\u001B[0mlabel_namer\u001B[0m\u001B[1;33m,\u001B[0m \u001B[0mfunc\u001B[0m\u001B[1;33m.\u001B[0m\u001B[0m__name__\u001B[0m\u001B[1;33m)\u001B[0m\u001B[1;33m,\u001B[0m\u001B[1;33m\u001B[0m\u001B[0m\n\u001B[0;32m   1809\u001B[0m                         RuntimeWarning, stacklevel=2)\n\u001B[1;32m-> 1810\u001B[1;33m             \u001B[1;32mreturn\u001B[0m \u001B[0mfunc\u001B[0m\u001B[1;33m(\u001B[0m\u001B[0max\u001B[0m\u001B[1;33m,\u001B[0m \u001B[1;33m*\u001B[0m\u001B[0margs\u001B[0m\u001B[1;33m,\u001B[0m \u001B[1;33m**\u001B[0m\u001B[0mkwargs\u001B[0m\u001B[1;33m)\u001B[0m\u001B[1;33m\u001B[0m\u001B[0m\n\u001B[0m\u001B[0;32m   1811\u001B[0m \u001B[1;33m\u001B[0m\u001B[0m\n\u001B[0;32m   1812\u001B[0m         inner.__doc__ = _add_data_doc(inner.__doc__,\n",
      "\u001B[1;32m~\\Anaconda3\\envs\\master2020\\lib\\site-packages\\matplotlib\\axes\\_axes.py\u001B[0m in \u001B[0;36mplot\u001B[1;34m(self, scalex, scaley, *args, **kwargs)\u001B[0m\n\u001B[0;32m   1609\u001B[0m         \u001B[0mkwargs\u001B[0m \u001B[1;33m=\u001B[0m \u001B[0mcbook\u001B[0m\u001B[1;33m.\u001B[0m\u001B[0mnormalize_kwargs\u001B[0m\u001B[1;33m(\u001B[0m\u001B[0mkwargs\u001B[0m\u001B[1;33m,\u001B[0m \u001B[0mmlines\u001B[0m\u001B[1;33m.\u001B[0m\u001B[0mLine2D\u001B[0m\u001B[1;33m.\u001B[0m\u001B[0m_alias_map\u001B[0m\u001B[1;33m)\u001B[0m\u001B[1;33m\u001B[0m\u001B[0m\n\u001B[0;32m   1610\u001B[0m \u001B[1;33m\u001B[0m\u001B[0m\n\u001B[1;32m-> 1611\u001B[1;33m         \u001B[1;32mfor\u001B[0m \u001B[0mline\u001B[0m \u001B[1;32min\u001B[0m \u001B[0mself\u001B[0m\u001B[1;33m.\u001B[0m\u001B[0m_get_lines\u001B[0m\u001B[1;33m(\u001B[0m\u001B[1;33m*\u001B[0m\u001B[0margs\u001B[0m\u001B[1;33m,\u001B[0m \u001B[1;33m**\u001B[0m\u001B[0mkwargs\u001B[0m\u001B[1;33m)\u001B[0m\u001B[1;33m:\u001B[0m\u001B[1;33m\u001B[0m\u001B[0m\n\u001B[0m\u001B[0;32m   1612\u001B[0m             \u001B[0mself\u001B[0m\u001B[1;33m.\u001B[0m\u001B[0madd_line\u001B[0m\u001B[1;33m(\u001B[0m\u001B[0mline\u001B[0m\u001B[1;33m)\u001B[0m\u001B[1;33m\u001B[0m\u001B[0m\n\u001B[0;32m   1613\u001B[0m             \u001B[0mlines\u001B[0m\u001B[1;33m.\u001B[0m\u001B[0mappend\u001B[0m\u001B[1;33m(\u001B[0m\u001B[0mline\u001B[0m\u001B[1;33m)\u001B[0m\u001B[1;33m\u001B[0m\u001B[0m\n",
      "\u001B[1;32m~\\Anaconda3\\envs\\master2020\\lib\\site-packages\\matplotlib\\axes\\_base.py\u001B[0m in \u001B[0;36m_grab_next_args\u001B[1;34m(self, *args, **kwargs)\u001B[0m\n\u001B[0;32m    391\u001B[0m                 \u001B[0mthis\u001B[0m \u001B[1;33m+=\u001B[0m \u001B[0margs\u001B[0m\u001B[1;33m[\u001B[0m\u001B[1;36m0\u001B[0m\u001B[1;33m]\u001B[0m\u001B[1;33m,\u001B[0m\u001B[1;33m\u001B[0m\u001B[0m\n\u001B[0;32m    392\u001B[0m                 \u001B[0margs\u001B[0m \u001B[1;33m=\u001B[0m \u001B[0margs\u001B[0m\u001B[1;33m[\u001B[0m\u001B[1;36m1\u001B[0m\u001B[1;33m:\u001B[0m\u001B[1;33m]\u001B[0m\u001B[1;33m\u001B[0m\u001B[0m\n\u001B[1;32m--> 393\u001B[1;33m             \u001B[1;32myield\u001B[0m \u001B[1;32mfrom\u001B[0m \u001B[0mself\u001B[0m\u001B[1;33m.\u001B[0m\u001B[0m_plot_args\u001B[0m\u001B[1;33m(\u001B[0m\u001B[0mthis\u001B[0m\u001B[1;33m,\u001B[0m \u001B[0mkwargs\u001B[0m\u001B[1;33m)\u001B[0m\u001B[1;33m\u001B[0m\u001B[0m\n\u001B[0m\u001B[0;32m    394\u001B[0m \u001B[1;33m\u001B[0m\u001B[0m\n\u001B[0;32m    395\u001B[0m \u001B[1;33m\u001B[0m\u001B[0m\n",
      "\u001B[1;32m~\\Anaconda3\\envs\\master2020\\lib\\site-packages\\matplotlib\\axes\\_base.py\u001B[0m in \u001B[0;36m_plot_args\u001B[1;34m(self, tup, kwargs)\u001B[0m\n\u001B[0;32m    368\u001B[0m             \u001B[0mx\u001B[0m\u001B[1;33m,\u001B[0m \u001B[0my\u001B[0m \u001B[1;33m=\u001B[0m \u001B[0mindex_of\u001B[0m\u001B[1;33m(\u001B[0m\u001B[0mtup\u001B[0m\u001B[1;33m[\u001B[0m\u001B[1;33m-\u001B[0m\u001B[1;36m1\u001B[0m\u001B[1;33m]\u001B[0m\u001B[1;33m)\u001B[0m\u001B[1;33m\u001B[0m\u001B[0m\n\u001B[0;32m    369\u001B[0m \u001B[1;33m\u001B[0m\u001B[0m\n\u001B[1;32m--> 370\u001B[1;33m         \u001B[0mx\u001B[0m\u001B[1;33m,\u001B[0m \u001B[0my\u001B[0m \u001B[1;33m=\u001B[0m \u001B[0mself\u001B[0m\u001B[1;33m.\u001B[0m\u001B[0m_xy_from_xy\u001B[0m\u001B[1;33m(\u001B[0m\u001B[0mx\u001B[0m\u001B[1;33m,\u001B[0m \u001B[0my\u001B[0m\u001B[1;33m)\u001B[0m\u001B[1;33m\u001B[0m\u001B[0m\n\u001B[0m\u001B[0;32m    371\u001B[0m \u001B[1;33m\u001B[0m\u001B[0m\n\u001B[0;32m    372\u001B[0m         \u001B[1;32mif\u001B[0m \u001B[0mself\u001B[0m\u001B[1;33m.\u001B[0m\u001B[0mcommand\u001B[0m \u001B[1;33m==\u001B[0m \u001B[1;34m'plot'\u001B[0m\u001B[1;33m:\u001B[0m\u001B[1;33m\u001B[0m\u001B[0m\n",
      "\u001B[1;32m~\\Anaconda3\\envs\\master2020\\lib\\site-packages\\matplotlib\\axes\\_base.py\u001B[0m in \u001B[0;36m_xy_from_xy\u001B[1;34m(self, x, y)\u001B[0m\n\u001B[0;32m    229\u001B[0m         \u001B[1;32mif\u001B[0m \u001B[0mx\u001B[0m\u001B[1;33m.\u001B[0m\u001B[0mshape\u001B[0m\u001B[1;33m[\u001B[0m\u001B[1;36m0\u001B[0m\u001B[1;33m]\u001B[0m \u001B[1;33m!=\u001B[0m \u001B[0my\u001B[0m\u001B[1;33m.\u001B[0m\u001B[0mshape\u001B[0m\u001B[1;33m[\u001B[0m\u001B[1;36m0\u001B[0m\u001B[1;33m]\u001B[0m\u001B[1;33m:\u001B[0m\u001B[1;33m\u001B[0m\u001B[0m\n\u001B[0;32m    230\u001B[0m             raise ValueError(\"x and y must have same first dimension, but \"\n\u001B[1;32m--> 231\u001B[1;33m                              \"have shapes {} and {}\".format(x.shape, y.shape))\n\u001B[0m\u001B[0;32m    232\u001B[0m         \u001B[1;32mif\u001B[0m \u001B[0mx\u001B[0m\u001B[1;33m.\u001B[0m\u001B[0mndim\u001B[0m \u001B[1;33m>\u001B[0m \u001B[1;36m2\u001B[0m \u001B[1;32mor\u001B[0m \u001B[0my\u001B[0m\u001B[1;33m.\u001B[0m\u001B[0mndim\u001B[0m \u001B[1;33m>\u001B[0m \u001B[1;36m2\u001B[0m\u001B[1;33m:\u001B[0m\u001B[1;33m\u001B[0m\u001B[0m\n\u001B[0;32m    233\u001B[0m             raise ValueError(\"x and y can be no greater than 2-D, but have \"\n",
      "\u001B[1;31mValueError\u001B[0m: x and y must have same first dimension, but have shapes (1439,) and (1434,)"
     ]
    },
    {
     "data": {
      "image/png": "[encoded data removed]",
      "text/plain": "<Figure size 1080x504 with 1 Axes>"
     },
     "metadata": {
      "needs_background": "light"
     },
     "output_type": "display_data"
    }
   ],
   "source": [
    "simulation = Simulator(10, agent, env, 1)\n",
    "agent.memory.init_memory(env=env)\n",
    "simulation.run()"
   ],
   "metadata": {
    "collapsed": false,
    "pycharm": {
     "name": "#%%\n"
    }
   }
  }
 ],
 "metadata": {
  "kernelspec": {
   "name": "python3",
   "language": "python",
   "display_name": "Python 3"
  },
  "language_info": {
   "codemirror_mode": {
    "name": "ipython",
    "version": 3
   },
   "file_extension": ".py",
   "mimetype": "text/x-python",
   "name": "python",
   "nbconvert_exporter": "python",
   "pygments_lexer": "ipython3",
   "version": "3.5.6"
  }
 },
 "nbformat": 4,
 "nbformat_minor": 1
}