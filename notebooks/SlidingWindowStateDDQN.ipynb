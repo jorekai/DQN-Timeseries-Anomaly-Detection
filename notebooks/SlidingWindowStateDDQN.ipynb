{
 "cells": [
  {
   "cell_type": "code",
   "execution_count": 7,
   "outputs": [
    {
     "name": "stdout",
     "output_type": "stream",
     "text": [
      "[name: \"/device:CPU:0\"\n",
      "device_type: \"CPU\"\n",
      "memory_limit: 268435456\n",
      "locality {\n",
      "}\n",
      "incarnation: 17995752935484388543\n",
      ", name: \"/device:GPU:0\"\n",
      "device_type: \"GPU\"\n",
      "memory_limit: 5083824128\n",
      "locality {\n",
      "  bus_id: 1\n",
      "  links {\n",
      "  }\n",
      "}\n",
      "incarnation: 7530784599855842955\n",
      "physical_device_desc: \"device: 0, name: GeForce GTX 1060 6GB, pci bus id: 0000:01:00.0, compute capability: 6.1\"\n",
      "]\n",
      "Default GPU Device: /device:GPU:0\n"
     ]
    }
   ],
   "source": [
    "import os\n",
    "import tensorflow as tf\n",
    "\n",
    "tf.__version__\n",
    "from tensorflow.python.client import device_lib\n",
    "print(device_lib.list_local_devices())\n",
    "print('Default GPU Device: {}'.format(tf.test.gpu_device_name()))\n",
    "tf.config.optimizer.set_jit(True)"
   ],
   "metadata": {
    "collapsed": false,
    "pycharm": {
     "name": "#%%\n"
    }
   }
  },
  {
   "cell_type": "code",
   "execution_count": null,
   "outputs": [
    {
     "name": "stdout",
     "output_type": "stream",
     "text": [
      "Model: \"sequential_3\"\n",
      "_________________________________________________________________\n",
      "Layer (type)                 Output Shape              Param #   \n",
      "=================================================================\n",
      "lstm_6 (LSTM)                (None, 1, 25)             5100      \n",
      "_________________________________________________________________\n",
      "lstm_7 (LSTM)                (None, 1, 256)            288768    \n",
      "_________________________________________________________________\n",
      "flatten_3 (Flatten)          (None, 256)               0         \n",
      "_________________________________________________________________\n",
      "dense_3 (Dense)              (None, 2)                 514       \n",
      "=================================================================\n",
      "Total params: 294,382\n",
      "Trainable params: 294,382\n",
      "Non-trainable params: 0\n",
      "_________________________________________________________________\n",
      "Successfully stored to memory_sliding_window.obj\n",
      "Memory is full, 5000 Samples stored. It took 1.8207621574401855 seconds\n",
      "Training Score now:  0\n",
      "Training episode 0 took 84.68192982673645 seconds \n",
      "1\n",
      "Training Score now:  634\n",
      "Training episode 1 took 82.09785628318787 seconds \n",
      "0.5\n",
      "Training Score now:  990\n",
      "Training episode 2 took 82.64379668235779 seconds \n",
      "0.25\n",
      "Training Score now:  1176\n",
      "Training episode 3 took 83.64775252342224 seconds \n",
      "0.125\n",
      "Training Score now:  1194\n",
      "Training episode 4 took 83.26379346847534 seconds \n",
      "0.1\n",
      "Training Score now:  1204\n",
      "Training episode 5 took 83.49149322509766 seconds \n",
      "0.1\n",
      "Training Score now:  1150\n",
      "Training episode 6 took 83.52389287948608 seconds \n",
      "0.1\n",
      "Training Score now:  1196\n",
      "Training episode 7 took 83.9055712223053 seconds \n",
      "0.1\n"
     ]
    }
   ],
   "source": [
    "from agents.MemoryBuffer import MemoryBuffer\n",
    "from agents.NeuralNetwork import NeuralNetwork\n",
    "from environment.Simulator import Simulator\n",
    "from agents.SlidingWindowAgent import SlidingWindowAgent\n",
    "from environment.Config import ConfigTimeSeries\n",
    "from environment.BaseEnvironment import TimeSeriesEnvironment\n",
    "from environment.WindowStateEnvironment import WindowStateEnvironment\n",
    "\n",
    "\n",
    "tf.compat.v1.disable_eager_execution()\n",
    "dqn = NeuralNetwork(input_dim=25,\n",
    "                input_neurons=25, hidden_neurons=128, type=\"lstm\").keras_model\n",
    "\n",
    "idx = 0\n",
    "for subdir, dirs, files in os.walk(\"../ts_data/A1Benchmark\"):\n",
    "    for file in files:\n",
    "        if file.find('.csv') != -1:\n",
    "            if idx >= len(files)/2:\n",
    "                break\n",
    "            config = ConfigTimeSeries()\n",
    "            env = WindowStateEnvironment(\n",
    "                TimeSeriesEnvironment(verbose=False, filename=\"./A1Benchmark/{}\".format(file), config=config))\n",
    "\n",
    "\n",
    "            agent = SlidingWindowAgent(lstm=True, dqn=dqn, memory=MemoryBuffer(max=50000, id=\"sliding_window\"), alpha=0.0001,\n",
    "                                       gamma=0.99, epsilon=1,\n",
    "                                       epsilon_end=0.1, epsilon_decay=0.5, fit_epoch=1, action_space=2, batch_size=25)\n",
    "            simulation = Simulator(20, agent, env, 1)\n",
    "            agent.memory.init_memory(env=env)\n",
    "            simulation.run()\n",
    "            idx += 1"
   ],
   "metadata": {
    "collapsed": false,
    "pycharm": {
     "name": "#%%\n",
     "is_executing": true
    }
   }
  }
 ],
 "metadata": {
  "kernelspec": {
   "name": "pycharm-689bdd82",
   "language": "python",
   "display_name": "PyCharm (MasterPredictions)"
  },
  "language_info": {
   "codemirror_mode": {
    "name": "ipython",
    "version": 2
   },
   "file_extension": ".py",
   "mimetype": "text/x-python",
   "name": "python",
   "nbconvert_exporter": "python",
   "pygments_lexer": "ipython2",
   "version": "2.7.6"
  }
 },
 "nbformat": 4,
 "nbformat_minor": 0
}